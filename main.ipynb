{
 "cells": [
  {
   "cell_type": "code",
   "execution_count": 199,
   "metadata": {},
   "outputs": [],
   "source": [
    "import numpy as np\n",
    "import random\n",
    "np.set_printoptions(precision=3)"
   ]
  },
  {
   "cell_type": "code",
   "execution_count": 237,
   "metadata": {},
   "outputs": [],
   "source": [
    "rock, paper, scissor = 0, 1, 2\n",
    "naction = 3\n",
    "\n",
    "def normalize(probs):\n",
    "    sumprobs = np.sum(probs)\n",
    "    if sumprobs > 0:\n",
    "        return probs / sumprobs\n",
    "    else:\n",
    "        return np.ones(naction) / naction\n",
    "\n",
    "def getStrategy(regretSum, strategySum):\n",
    "    strategy = np.maximum(regretSum, 0)\n",
    "    strategy = normalize(strategy)\n",
    "    strategySum += strategy\n",
    "    return strategy\n",
    "\n",
    "def getAction(strategy):\n",
    "    return np.random.choice(naction, p=strategy)\n",
    "\n",
    "def train(oiters, iters):\n",
    "    strategy1 = normalize(np.random.rand(naction))\n",
    "    strategy2 = normalize(np.random.rand(naction))\n",
    "    print(\"Initial Strategy1: \", strategy1, \"Initial Strategy2: \", strategy2)\n",
    "\n",
    "    strategySum1 = np.zeros(naction)\n",
    "    strategySum2 = np.zeros(naction)\n",
    "\n",
    "    for o in range(oiters):\n",
    "        regretSum1 = np.zeros(naction)\n",
    "        regretSum2 = np.zeros(naction)\n",
    "        for i in range(iters):\n",
    "            strategy1 = getStrategy(regretSum1, strategySum1)\n",
    "            action1 = getAction(strategy1)\n",
    "            strategy2 = getStrategy(regretSum2, strategySum2)\n",
    "            action2 = getAction(strategy2)\n",
    "\n",
    "            actionVal1 = np.zeros(naction)\n",
    "            actionVal1[(action2 + 1) % naction] = 1\n",
    "            actionVal1[(action2 - 1) % naction] = -1\n",
    "            regretSum1 += actionVal1 - actionVal1[action1]\n",
    "\n",
    "            actionVal2 = np.zeros(naction)\n",
    "            actionVal2[(action1 + 1) % naction] = 1\n",
    "            actionVal2[(action1 - 1) % naction] = -1\n",
    "            regretSum2 += actionVal2 - actionVal2[action2]\n",
    "\n",
    "        print(\"Iteration: \", o, \"Strategy1: \", normalize(strategySum1), \"Strategy2: \", normalize(strategySum2))\n",
    "        \n",
    "    return normalize(strategySum1), normalize(strategySum2)"
   ]
  },
  {
   "cell_type": "code",
   "execution_count": 238,
   "metadata": {},
   "outputs": [
    {
     "name": "stdout",
     "output_type": "stream",
     "text": [
      "Initial Strategy1:  [0.405 0.339 0.255] Initial Strategy2:  [0.329 0.099 0.572]\n",
      "Iteration:  0 Strategy1:  [0.331 0.337 0.332] Strategy2:  [0.333 0.33  0.336]\n"
     ]
    },
    {
     "data": {
      "text/plain": [
       "(array([0.331, 0.337, 0.332]), array([0.333, 0.33 , 0.336]))"
      ]
     },
     "execution_count": 238,
     "metadata": {},
     "output_type": "execute_result"
    }
   ],
   "source": [
    "train(int(1e0), int(1e5))"
   ]
  }
 ],
 "metadata": {
  "kernelspec": {
   "display_name": "base",
   "language": "python",
   "name": "base"
  },
  "language_info": {
   "codemirror_mode": {
    "name": "ipython",
    "version": 3
   },
   "file_extension": ".py",
   "mimetype": "text/x-python",
   "name": "python",
   "nbconvert_exporter": "python",
   "pygments_lexer": "ipython3",
   "version": "3.10.9"
  }
 },
 "nbformat": 4,
 "nbformat_minor": 2
}
